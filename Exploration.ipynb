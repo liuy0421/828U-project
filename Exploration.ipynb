{
 "cells": [
  {
   "cell_type": "code",
   "execution_count": 16,
   "metadata": {},
   "outputs": [],
   "source": [
    "from __future__ import print_function\n",
    "from time import time\n",
    "\n",
    "from sklearn.feature_extraction.text import CountVectorizer\n",
    "from sklearn.datasets import fetch_20newsgroups\n",
    "import pandas as pd\n",
    "import numpy as np\n",
    "\n",
    "from tensor_lda.tensor_lda import TensorLDA\n",
    "\n",
    "import scipy\n",
    "import scipy.sparse as sparse\n",
    "from sklearn.preprocessing import normalize \n",
    "import pickle"
   ]
  },
  {
   "cell_type": "code",
   "execution_count": 21,
   "metadata": {},
   "outputs": [],
   "source": [
    "# import dataset\n",
    "file_path = \"../DATA/GSE131928_RAW/GSM3828672_Smartseq2_GBM_IDHwt_processed_TPM.tsv\"\n",
    "df = pd.read_csv(file_path, sep='\\t').transpose()\n",
    "\n",
    "# extract gene names and expression values\n",
    "gene_names = df.values[0]\n",
    "exp_cell_normalized = np.round(normalize(df.values[1:],axis=0,norm='max')*100)"
   ]
  },
  {
   "cell_type": "code",
   "execution_count": 42,
   "metadata": {},
   "outputs": [],
   "source": [
    "var = exp_cell_normalized.var(axis = 0)\n",
    "\n",
    "num_genes_list = [500,1000,1500]\n",
    "\n",
    "num_topics = [3,5,7,9,11]\n",
    "\n",
    "for n_genes in num_genes_list:\n",
    "    ind = np.argpartition(var, -n_genes)[-n_genes:]\n",
    "\n",
    "    # print(\"done in %0.3fs.\" % (time() - t0))\n",
    "\n",
    "    # print(\"Constructing sparse matrix...\")\n",
    "    # t0=time()\n",
    "\n",
    "    tf = sparse.csr_matrix(exp_cell_normalized[:,ind].astype(float))\n",
    "    tf_feature_names = gene_names[ind]\n",
    "\n",
    "    with open(\"results/filtered_gene%d_exp.pkl\"%(n_genes), 'wb') as f:  # Python 3: open(..., 'wb')\n",
    "        pickle.dump([tf,tf_feature_names], f,-1)\n"
   ]
  },
  {
   "cell_type": "code",
   "execution_count": 22,
   "metadata": {},
   "outputs": [],
   "source": [
    "# Keep the top 2000 genes with the highest variance\n",
    "var = exp_cell_normalized.var(axis = 0)\n",
    "ind = np.argpartition(var, -1500)[-1500:]\n",
    "tf = sparse.csr_matrix(exp_cell_normalized[:,ind].astype(float))\n",
    "tf_feature_names = gene_names[ind]"
   ]
  },
  {
   "cell_type": "code",
   "execution_count": 38,
   "metadata": {},
   "outputs": [],
   "source": [
    "with open(\"filtered_1500_gene_dataset.pkl\", 'wb') as f:\n",
    "    pickle.dump([tf,tf_feature_names], f,-1)\n"
   ]
  },
  {
   "cell_type": "code",
   "execution_count": 40,
   "metadata": {},
   "outputs": [
    {
     "data": {
      "text/plain": [
       "<7930x1500 sparse matrix of type '<class 'numpy.float64'>'\n",
       "\twith 6920086 stored elements in Compressed Sparse Row format>"
      ]
     },
     "execution_count": 40,
     "metadata": {},
     "output_type": "execute_result"
    }
   ],
   "source": [
    "with open('filtered_1500_gene_dataset.pkl', 'rb') as f:  # Python 3: open(..., 'rb')\n",
    "     [tf,tf_feature_names] = pickle.load(f)"
   ]
  },
  {
   "cell_type": "code",
   "execution_count": null,
   "metadata": {
    "scrolled": true
   },
   "outputs": [],
   "source": [
    "exp_test"
   ]
  },
  {
   "cell_type": "code",
   "execution_count": null,
   "metadata": {},
   "outputs": [],
   "source": [
    "\n",
    "n_samples = tf.shape[0]\n",
    "n_features = tf.shape[1]\n",
    "n_components = 4\n",
    "n_top_words = 20\n"
   ]
  },
  {
   "cell_type": "code",
   "execution_count": null,
   "metadata": {},
   "outputs": [],
   "source": [
    "lda = TensorLDA(n_components=n_components, alpha0=.1)"
   ]
  },
  {
   "cell_type": "code",
   "execution_count": null,
   "metadata": {},
   "outputs": [],
   "source": [
    "lda.fit(tf)"
   ]
  },
  {
   "cell_type": "code",
   "execution_count": null,
   "metadata": {},
   "outputs": [],
   "source": [
    "def print_top_words(model, feature_names, n_top_words):\n",
    "    for topic_idx, topic in enumerate(model.components_):\n",
    "        topic_prior = model.alpha_[topic_idx]\n",
    "        message = \"Topic #%d (prior: %.3f): \" % (topic_idx, topic_prior)\n",
    "        message += \" \".join([feature_names[i]\n",
    "                             for i in topic.argsort()[:-n_top_words - 1:-1]])\n",
    "        print(message)\n",
    "    print()\n",
    "\n",
    "\n",
    "# Load the 20 newsgroups dataset and vectorize it. We use a few heuristics\n",
    "# to filter out useless terms early on: the posts are stripped of headers,\n",
    "# footers and quoted replies, and common English words, words occurring in\n",
    "# only one document or in at least 95% of the documents are removed.\n",
    "\n",
    "print(\"Loading dataset...\")\n",
    "t0 = time()\n",
    "dataset = fetch_20newsgroups(shuffle=True, random_state=2,\n",
    "                             remove=('headers', 'footers', 'quotes'))\n",
    "data_samples = dataset.data[:n_samples]\n",
    "print(\"done in %0.3fs.\" % (time() - t0))\n",
    "\n",
    "# Use tf (raw term count) features for LDA.\n",
    "print(\"Extracting tf features for LDA...\")\n",
    "tf_vectorizer = CountVectorizer(max_df=0.8, min_df=5,\n",
    "                                max_features=n_features,\n",
    "                                stop_words='english')\n",
    "t0 = time()\n",
    "tf = tf_vectorizer.fit_transform(data_samples)\n",
    "print(\"done in %0.3fs.\" % (time() - t0))\n",
    "print()\n",
    "\n",
    "print(\"Fitting TensorLDA models with tf features, \"\n",
    "      \"n_samples=%d and n_features=%d...\"\n",
    "      % (n_samples, n_features))\n",
    "\n",
    "lda = TensorLDA(n_components=n_components, alpha0=.1)\n",
    "\n",
    "t0 = time()\n",
    "lda.fit(tf)\n",
    "print(\"done in %0.3fs.\" % (time() - t0))\n",
    "\n",
    "print(\"\\nTopics in LDA model:\")\n",
    "tf_feature_names = tf_vectorizer.get_feature_names()\n",
    "print_top_words(lda, tf_feature_names, n_top_words)\n",
    "\n",
    "doc_topics = lda.transform(tf[0:2, :])\n",
    "print(doc_topics[0, :])\n",
    "print(data_samples[0])"
   ]
  },
  {
   "cell_type": "code",
   "execution_count": 5,
   "metadata": {},
   "outputs": [],
   "source": [
    "with open('lda_model.pkl', 'rb') as f:  # Python 3: open(..., 'rb')\n",
    "     lda = pickle.load(f)\n"
   ]
  },
  {
   "cell_type": "code",
   "execution_count": 23,
   "metadata": {
    "scrolled": true
   },
   "outputs": [],
   "source": [
    "lda.transform(tf).argmax(axis=1))"
   ]
  },
  {
   "cell_type": "code",
   "execution_count": 44,
   "metadata": {},
   "outputs": [],
   "source": [
    "# Specify the hyperparameters\n",
    "num_genes_list = [500,1000,1500]\n",
    "num_topics = [3,5,7,9,11]\n",
    "predictions = []\n",
    "# load the result for each pair of hyperparameters and do transformation\n",
    "for n_genes in num_genes_list:\n",
    "    with open(\"results/filtered_gene%d_exp.pkl\"%(n_genes), 'rb') as f:  # Python 3: open(..., 'rb')\n",
    "        [tf,tf_feature_names] = pickle.load(f)\n",
    "    for n_components in num_topics:\n",
    "        with open(\"results/lda_model_topic%d_gene%d.pkl\"%(n_components, n_genes), 'rb') as f:\n",
    "            lda = pickle.load(f)\n",
    "        predictions.append(lda.transform(tf).argmax(axis=1))\n"
   ]
  },
  {
   "cell_type": "code",
   "execution_count": 46,
   "metadata": {},
   "outputs": [],
   "source": [
    "with open(\"results/predictions.pkl\", 'wb') as f:\n",
    "    pickle.dump(predictions, f,-1)\n"
   ]
  },
  {
   "cell_type": "code",
   "execution_count": 49,
   "metadata": {},
   "outputs": [
    {
     "name": "stdout",
     "output_type": "stream",
     "text": [
      "[ 9 10 10 ... 10 10 10]\n"
     ]
    }
   ],
   "source": [
    "print(predictions[14])\n"
   ]
  }
 ],
 "metadata": {
  "kernelspec": {
   "display_name": "Python 3",
   "language": "python",
   "name": "python3"
  },
  "language_info": {
   "codemirror_mode": {
    "name": "ipython",
    "version": 3
   },
   "file_extension": ".py",
   "mimetype": "text/x-python",
   "name": "python",
   "nbconvert_exporter": "python",
   "pygments_lexer": "ipython3",
   "version": "3.7.9"
  }
 },
 "nbformat": 4,
 "nbformat_minor": 4
}
