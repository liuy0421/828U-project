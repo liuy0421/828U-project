{
 "cells": [
  {
   "cell_type": "code",
   "execution_count": 12,
   "metadata": {},
   "outputs": [],
   "source": [
    "from __future__ import print_function\n",
    "from time import time\n",
    "\n",
    "from sklearn.feature_extraction.text import CountVectorizer\n",
    "from sklearn.datasets import fetch_20newsgroups\n",
    "import pandas as pd\n",
    "import numpy as np\n",
    "\n",
    "from tensor_lda.tensor_lda import TensorLDA\n",
    "\n",
    "import scipy\n",
    "import scipy.sparse as sparse\n",
    "from sklearn.preprocessing import normalize \n",
    "import pickle"
   ]
  },
  {
   "cell_type": "code",
   "execution_count": 2,
   "metadata": {},
   "outputs": [],
   "source": [
    "# import dataset\n",
    "file_path = \"../DATA/GSE131928_RAW/GSM3828672_Smartseq2_GBM_IDHwt_processed_TPM.tsv\"\n",
    "df = pd.read_csv(file_path, sep='\\t').transpose()\n",
    "\n",
    "# extract gene names and expression values\n",
    "gene_names = df.values[0]\n",
    "exp_cell_normalized = np.round(normalize(df.values[1:],axis=0,norm='max')*100)"
   ]
  },
  {
   "cell_type": "code",
   "execution_count": 4,
   "metadata": {},
   "outputs": [],
   "source": [
    "var = exp_cell_normalized.var(axis = 0)\n",
    "\n",
    "n_genes = 1500\n",
    "\n",
    "num_topics = [4,5,7,8]\n",
    "\n",
    "ind = np.argpartition(var, -n_genes)[-n_genes:]\n",
    "tf = sparse.csr_matrix(exp_cell_normalized[:,ind].astype(float))\n",
    "tf_feature_names = gene_names[ind]\n",
    "\n",
    "predictions = []\n",
    "\n",
    "for n_components in num_topics:\n",
    "    lda = TensorLDA(n_components=n_components, alpha0=.01)\n",
    "    lda.fit(tf)\n",
    "    prediction = lda.transform(tf).argmax(axis=1)\n",
    "    predictions.append([lda, prediction])\n",
    "    "
   ]
  },
  {
   "cell_type": "code",
   "execution_count": 16,
   "metadata": {},
   "outputs": [],
   "source": [
    "with open(\"results/topic4578gene1500.pkl\", 'wb') as f:\n",
    "    pickle.dump(predictions, f,-1)\n"
   ]
  },
  {
   "cell_type": "code",
   "execution_count": 17,
   "metadata": {},
   "outputs": [
    {
     "data": {
      "text/plain": [
       "{0: 884, 2: 2777, 3: 2232, 1: 2037}"
      ]
     },
     "execution_count": 17,
     "metadata": {},
     "output_type": "execute_result"
    }
   ],
   "source": [
    "elements_count = {}\n",
    "for element in predictions[0][1]:\n",
    "       # checking whether it is in the dict or not\n",
    "       if element in elements_count:\n",
    "          # incerementing the count by 1\n",
    "          elements_count[element] += 1\n",
    "       else:\n",
    "          # setting the count to 1\n",
    "          elements_count[element] = 1\n",
    "elements_count\n"
   ]
  },
  {
   "cell_type": "code",
   "execution_count": 18,
   "metadata": {},
   "outputs": [
    {
     "data": {
      "text/plain": [
       "{0: 868, 3: 2583, 4: 2136, 2: 1991, 1: 352}"
      ]
     },
     "execution_count": 18,
     "metadata": {},
     "output_type": "execute_result"
    }
   ],
   "source": [
    "elements_count = {}\n",
    "for element in predictions[1][1]:\n",
    "       # checking whether it is in the dict or not\n",
    "       if element in elements_count:\n",
    "          # incerementing the count by 1\n",
    "          elements_count[element] += 1\n",
    "       else:\n",
    "          # setting the count to 1\n",
    "          elements_count[element] = 1\n",
    "elements_count\n"
   ]
  },
  {
   "cell_type": "code",
   "execution_count": 26,
   "metadata": {},
   "outputs": [
    {
     "data": {
      "text/plain": [
       "{1: 847, 2: 2233, 5: 1907, 3: 819, 4: 1877, 0: 247}"
      ]
     },
     "execution_count": 26,
     "metadata": {},
     "output_type": "execute_result"
    }
   ],
   "source": [
    "with open(\"results/filtered_gene1500_topic6.pkl\", 'rb') as f:  # Python 3: open(..., 'wb')\n",
    "    [topic6_tf,topic6_tf_feature_names, topic6_lda, topic6_prediction]=pickle.load(f)\n",
    "\n",
    "elements_count = {}\n",
    "for element in topic6_prediction:\n",
    "       # checking whether it is in the dict or not\n",
    "       if element in elements_count:\n",
    "          # incerementing the count by 1\n",
    "          elements_count[element] += 1\n",
    "       else:\n",
    "          # setting the count to 1\n",
    "          elements_count[element] = 1\n",
    "elements_count"
   ]
  },
  {
   "cell_type": "code",
   "execution_count": 19,
   "metadata": {},
   "outputs": [
    {
     "data": {
      "text/plain": [
       "{1: 845, 2: 507, 4: 1815, 6: 1841, 3: 553, 5: 2108, 0: 261}"
      ]
     },
     "execution_count": 19,
     "metadata": {},
     "output_type": "execute_result"
    }
   ],
   "source": [
    "elements_count = {}\n",
    "for element in predictions[2][1]:\n",
    "       # checking whether it is in the dict or not\n",
    "       if element in elements_count:\n",
    "          # incerementing the count by 1\n",
    "          elements_count[element] += 1\n",
    "       else:\n",
    "          # setting the count to 1\n",
    "          elements_count[element] = 1\n",
    "elements_count\n"
   ]
  },
  {
   "cell_type": "code",
   "execution_count": 25,
   "metadata": {},
   "outputs": [
    {
     "data": {
      "text/plain": [
       "{1: 847, 4: 1644, 6: 1797, 5: 856, 3: 1384, 2: 203, 7: 961, 0: 238}"
      ]
     },
     "execution_count": 25,
     "metadata": {},
     "output_type": "execute_result"
    }
   ],
   "source": [
    "elements_count = {}\n",
    "for element in predictions[3][1]:\n",
    "       # checking whether it is in the dict or not\n",
    "       if element in elements_count:\n",
    "          # incerementing the count by 1\n",
    "          elements_count[element] += 1\n",
    "       else:\n",
    "          # setting the count to 1\n",
    "          elements_count[element] = 1\n",
    "elements_count\n"
   ]
  },
  {
   "cell_type": "code",
   "execution_count": 27,
   "metadata": {},
   "outputs": [],
   "source": [
    "num_topics = [9,10]\n",
    "\n",
    "for n_components in num_topics:\n",
    "    lda = TensorLDA(n_components=n_components, alpha0=.01)\n",
    "    lda.fit(tf)\n",
    "    prediction = lda.transform(tf).argmax(axis=1)\n",
    "    predictions.append([lda, prediction])\n",
    "    "
   ]
  },
  {
   "cell_type": "code",
   "execution_count": 33,
   "metadata": {},
   "outputs": [
    {
     "data": {
      "text/plain": [
       "{0: 824, 6: 896, 7: 1127, 8: 1734, 2: 250, 3: 294, 4: 1128, 5: 1447, 1: 230}"
      ]
     },
     "execution_count": 33,
     "metadata": {},
     "output_type": "execute_result"
    }
   ],
   "source": [
    "elements_count = {}\n",
    "for element in predictions[4][1]:\n",
    "       # checking whether it is in the dict or not\n",
    "       if element in elements_count:\n",
    "          # incerementing the count by 1\n",
    "          elements_count[element] += 1\n",
    "       else:\n",
    "          # setting the count to 1\n",
    "          elements_count[element] = 1\n",
    "elements_count\n"
   ]
  },
  {
   "cell_type": "code",
   "execution_count": 34,
   "metadata": {
    "scrolled": true
   },
   "outputs": [
    {
     "data": {
      "text/plain": [
       "{1: 771,\n",
       " 8: 1274,\n",
       " 9: 1244,\n",
       " 6: 937,\n",
       " 4: 946,\n",
       " 3: 507,\n",
       " 5: 403,\n",
       " 7: 1498,\n",
       " 2: 109,\n",
       " 0: 241}"
      ]
     },
     "execution_count": 34,
     "metadata": {},
     "output_type": "execute_result"
    }
   ],
   "source": [
    "elements_count = {}\n",
    "for element in predictions[5][1]:\n",
    "       # checking whether it is in the dict or not\n",
    "       if element in elements_count:\n",
    "          # incerementing the count by 1\n",
    "          elements_count[element] += 1\n",
    "       else:\n",
    "          # setting the count to 1\n",
    "          elements_count[element] = 1\n",
    "elements_count\n"
   ]
  },
  {
   "cell_type": "code",
   "execution_count": null,
   "metadata": {},
   "outputs": [],
   "source": [
    "predictions.append()"
   ]
  },
  {
   "cell_type": "code",
   "execution_count": 35,
   "metadata": {},
   "outputs": [],
   "source": [
    "lda = TensorLDA(n_components=3, alpha0=.01)\n",
    "lda.fit(tf)\n",
    "prediction = lda.transform(tf).argmax(axis=1)\n",
    "predictions.append([lda, prediction])\n",
    "    "
   ]
  },
  {
   "cell_type": "code",
   "execution_count": 36,
   "metadata": {
    "scrolled": true
   },
   "outputs": [
    {
     "data": {
      "text/plain": [
       "{0: 884, 1: 3486, 2: 3560}"
      ]
     },
     "execution_count": 36,
     "metadata": {},
     "output_type": "execute_result"
    }
   ],
   "source": [
    "elements_count = {}\n",
    "for element in predictions[6][1]:\n",
    "       # checking whether it is in the dict or not\n",
    "       if element in elements_count:\n",
    "          # incerementing the count by 1\n",
    "          elements_count[element] += 1\n",
    "       else:\n",
    "          # setting the count to 1\n",
    "          elements_count[element] = 1\n",
    "elements_count\n"
   ]
  },
  {
   "cell_type": "code",
   "execution_count": 37,
   "metadata": {},
   "outputs": [],
   "source": [
    "predictions.append([topic6_lda, topic6_prediction])"
   ]
  },
  {
   "cell_type": "code",
   "execution_count": 41,
   "metadata": {
    "scrolled": true
   },
   "outputs": [],
   "source": [
    "idx_list = [6,0,1,7,2,3,4,5]\n",
    "predictions1 = []\n",
    "for idx in idx_list:\n",
    "    predictions1.append(predictions[idx])"
   ]
  },
  {
   "cell_type": "code",
   "execution_count": 42,
   "metadata": {},
   "outputs": [],
   "source": [
    "with open(\"results/topic345678910gene1500.pkl\", 'wb') as f:\n",
    "    pickle.dump(predictions1, f,-1)\n"
   ]
  },
  {
   "cell_type": "code",
   "execution_count": null,
   "metadata": {},
   "outputs": [],
   "source": [
    "# Keep the top 2000 genes with the highest variance\n",
    "var = exp_cell_normalized.var(axis = 0)\n",
    "ind = np.argpartition(var, -1500)[-1500:]\n",
    "tf = sparse.csr_matrix(exp_cell_normalized[:,ind].astype(float))\n",
    "tf_feature_names = gene_names[ind]"
   ]
  },
  {
   "cell_type": "code",
   "execution_count": null,
   "metadata": {},
   "outputs": [],
   "source": [
    "with open(\"filtered_1500_gene_dataset.pkl\", 'wb') as f:\n",
    "    pickle.dump([tf,tf_feature_names], f,-1)\n"
   ]
  },
  {
   "cell_type": "code",
   "execution_count": null,
   "metadata": {},
   "outputs": [],
   "source": [
    "with open('filtered_1500_gene_dataset.pkl', 'rb') as f:  # Python 3: open(..., 'rb')\n",
    "     [tf,tf_feature_names] = pickle.load(f)"
   ]
  },
  {
   "cell_type": "code",
   "execution_count": null,
   "metadata": {},
   "outputs": [],
   "source": [
    "n_samples = tf.shape[0]\n",
    "n_features = tf.shape[1]\n",
    "n_components = 6\n",
    "n_top_words = 30\n"
   ]
  },
  {
   "cell_type": "code",
   "execution_count": null,
   "metadata": {},
   "outputs": [],
   "source": [
    "lda = TensorLDA(n_components=n_components, alpha0=.01)"
   ]
  },
  {
   "cell_type": "code",
   "execution_count": null,
   "metadata": {
    "scrolled": true
   },
   "outputs": [],
   "source": [
    "lda.fit(tf)"
   ]
  },
  {
   "cell_type": "code",
   "execution_count": null,
   "metadata": {},
   "outputs": [],
   "source": [
    "prediction = lda.transform(tf).argmax(axis=1)"
   ]
  },
  {
   "cell_type": "code",
   "execution_count": null,
   "metadata": {},
   "outputs": [],
   "source": [
    "with open(\"results/filtered_gene1500_topic6.pkl\", 'wb') as f:  # Python 3: open(..., 'wb')\n",
    "    pickle.dump([tf,tf_feature_names, lda, prediction], f,-1)\n"
   ]
  },
  {
   "cell_type": "code",
   "execution_count": 2,
   "metadata": {},
   "outputs": [
    {
     "name": "stdout",
     "output_type": "stream",
     "text": [
      "Loading dataset...\n"
     ]
    },
    {
     "ename": "NameError",
     "evalue": "name 'n_samples' is not defined",
     "output_type": "error",
     "traceback": [
      "\u001b[1;31m---------------------------------------------------------------------------\u001b[0m",
      "\u001b[1;31mNameError\u001b[0m                                 Traceback (most recent call last)",
      "\u001b[1;32m<ipython-input-2-13151d6f08a2>\u001b[0m in \u001b[0;36m<module>\u001b[1;34m\u001b[0m\n\u001b[0;32m     18\u001b[0m dataset = fetch_20newsgroups(shuffle=True, random_state=2,\n\u001b[0;32m     19\u001b[0m                              remove=('headers', 'footers', 'quotes'))\n\u001b[1;32m---> 20\u001b[1;33m \u001b[0mdata_samples\u001b[0m \u001b[1;33m=\u001b[0m \u001b[0mdataset\u001b[0m\u001b[1;33m.\u001b[0m\u001b[0mdata\u001b[0m\u001b[1;33m[\u001b[0m\u001b[1;33m:\u001b[0m\u001b[0mn_samples\u001b[0m\u001b[1;33m]\u001b[0m\u001b[1;33m\u001b[0m\u001b[1;33m\u001b[0m\u001b[0m\n\u001b[0m\u001b[0;32m     21\u001b[0m \u001b[0mprint\u001b[0m\u001b[1;33m(\u001b[0m\u001b[1;34m\"done in %0.3fs.\"\u001b[0m \u001b[1;33m%\u001b[0m \u001b[1;33m(\u001b[0m\u001b[0mtime\u001b[0m\u001b[1;33m(\u001b[0m\u001b[1;33m)\u001b[0m \u001b[1;33m-\u001b[0m \u001b[0mt0\u001b[0m\u001b[1;33m)\u001b[0m\u001b[1;33m)\u001b[0m\u001b[1;33m\u001b[0m\u001b[1;33m\u001b[0m\u001b[0m\n\u001b[0;32m     22\u001b[0m \u001b[1;33m\u001b[0m\u001b[0m\n",
      "\u001b[1;31mNameError\u001b[0m: name 'n_samples' is not defined"
     ]
    }
   ],
   "source": [
    "def print_top_words(model, feature_names, n_top_words):\n",
    "    for topic_idx, topic in enumerate(model.components_):\n",
    "        topic_prior = model.alpha_[topic_idx]\n",
    "        message = \"Topic #%d (prior: %.3f): \" % (topic_idx, topic_prior)\n",
    "        message += \" \".join([feature_names[i]\n",
    "                             for i in topic.argsort()[:-n_top_words - 1:-1]])\n",
    "        print(message)\n",
    "    print()\n",
    "\n",
    "\n",
    "# Load the 20 newsgroups dataset and vectorize it. We use a few heuristics\n",
    "# to filter out useless terms early on: the posts are stripped of headers,\n",
    "# footers and quoted replies, and common English words, words occurring in\n",
    "# only one document or in at least 95% of the documents are removed.\n",
    "\n",
    "print(\"Loading dataset...\")\n",
    "t0 = time()\n",
    "dataset = fetch_20newsgroups(shuffle=True, random_state=2,\n",
    "                             remove=('headers', 'footers', 'quotes'))\n",
    "data_samples = dataset.data[:n_samples]\n",
    "print(\"done in %0.3fs.\" % (time() - t0))\n",
    "\n",
    "# Use tf (raw term count) features for LDA.\n",
    "print(\"Extracting tf features for LDA...\")\n",
    "tf_vectorizer = CountVectorizer(max_df=0.8, min_df=5,\n",
    "                                max_features=n_features,\n",
    "                                stop_words='english')\n",
    "t0 = time()\n",
    "tf = tf_vectorizer.fit_transform(data_samples)\n",
    "print(\"done in %0.3fs.\" % (time() - t0))\n",
    "print()\n",
    "\n",
    "print(\"Fitting TensorLDA models with tf features, \"\n",
    "      \"n_samples=%d and n_features=%d...\"\n",
    "      % (n_samples, n_features))\n",
    "\n",
    "lda = TensorLDA(n_components=n_components, alpha0=.1)\n",
    "\n",
    "t0 = time()\n",
    "lda.fit(tf)\n",
    "print(\"done in %0.3fs.\" % (time() - t0))\n",
    "\n",
    "print(\"\\nTopics in LDA model:\")\n",
    "tf_feature_names = tf_vectorizer.get_feature_names()\n",
    "print_top_words(lda, tf_feature_names, n_top_words)\n",
    "\n",
    "doc_topics = lda.transform(tf[0:2, :])\n",
    "print(doc_topics[0, :])\n",
    "print(data_samples[0])"
   ]
  },
  {
   "cell_type": "code",
   "execution_count": null,
   "metadata": {},
   "outputs": [],
   "source": [
    "# with open('lda_model.pkl', 'rb') as f:  # Python 3: open(..., 'rb')\n",
    "#      lda = pickle.load(f)\n"
   ]
  },
  {
   "cell_type": "code",
   "execution_count": null,
   "metadata": {
    "scrolled": true
   },
   "outputs": [],
   "source": [
    "# lda.transform(tf).argmax(axis=1))"
   ]
  },
  {
   "cell_type": "code",
   "execution_count": null,
   "metadata": {},
   "outputs": [],
   "source": [
    "# # Specify the hyperparameters\n",
    "# num_genes_list = [500,1000,1500]\n",
    "# num_topics = [3,5,7,9,11]\n",
    "# predictions = []\n",
    "# # load the result for each pair of hyperparameters and do transformation\n",
    "# for n_genes in num_genes_list:\n",
    "#     with open(\"results/filtered_gene%d_exp.pkl\"%(n_genes), 'rb') as f:  # Python 3: open(..., 'rb')\n",
    "#         [tf,tf_feature_names] = pickle.load(f)\n",
    "#     for n_components in num_topics:\n",
    "#         with open(\"results/lda_model_topic%d_gene%d.pkl\"%(n_components, n_genes), 'rb') as f:\n",
    "#             lda = pickle.load(f)\n",
    "#         predictions.append(lda.transform(tf).argmax(axis=1))\n"
   ]
  },
  {
   "cell_type": "code",
   "execution_count": null,
   "metadata": {},
   "outputs": [],
   "source": [
    "# with open(\"results/predictions.pkl\", 'wb') as f:\n",
    "#     pickle.dump(predictions, f,-1)\n"
   ]
  },
  {
   "cell_type": "code",
   "execution_count": null,
   "metadata": {
    "scrolled": true
   },
   "outputs": [],
   "source": [
    "# with open(\"results/predictions.pkl\", 'wb') as f:\n",
    "#     predictions1 = pickle.load(f)\n"
   ]
  },
  {
   "cell_type": "code",
   "execution_count": null,
   "metadata": {},
   "outputs": [],
   "source": [
    "# elements_count_collection = []\n",
    "# for i in range(10, 15):\n",
    "#     elements_count = {}\n",
    "#     # iterating over the elements for frequency\n",
    "#     for element in predictions[i]:\n",
    "#        # checking whether it is in the dict or not\n",
    "#        if element in elements_count:\n",
    "#           # incerementing the count by 1\n",
    "#           elements_count[element] += 1\n",
    "#        else:\n",
    "#           # setting the count to 1\n",
    "#           elements_count[element] = 1\n",
    "#     # printing the elements frequencies\n",
    "#     elements_count_collection.append(elements_count)\n"
   ]
  },
  {
   "cell_type": "code",
   "execution_count": null,
   "metadata": {},
   "outputs": [],
   "source": [
    "# elements_count_collection"
   ]
  },
  {
   "cell_type": "code",
   "execution_count": null,
   "metadata": {},
   "outputs": [],
   "source": [
    "# for i in range(10,14):\n",
    "#     print(i)"
   ]
  },
  {
   "cell_type": "code",
   "execution_count": 21,
   "metadata": {},
   "outputs": [],
   "source": []
  },
  {
   "cell_type": "code",
   "execution_count": 22,
   "metadata": {},
   "outputs": [],
   "source": [
    "# with open(\"results/filtered_gene1500_topic6.pkl\", 'rb') as f:  # Python 3: open(..., 'wb')\n",
    "#     [topic6_tf,topic6_tf_feature_names, topic6_lda, topic6_prediction]=pickle.load(f)\n",
    "\n",
    "# elements_count = {}\n",
    "# for element in topic6_prediction:\n",
    "#        # checking whether it is in the dict or not\n",
    "#        if element in elements_count:\n",
    "#           # incerementing the count by 1\n",
    "#           elements_count[element] += 1\n",
    "#        else:\n",
    "#           # setting the count to 1\n",
    "#           elements_count[element] = 1\n",
    "# elements_count"
   ]
  },
  {
   "cell_type": "code",
   "execution_count": 23,
   "metadata": {},
   "outputs": [
    {
     "data": {
      "text/plain": [
       "{1: 847, 2: 2233, 5: 1907, 3: 819, 4: 1877, 0: 247}"
      ]
     },
     "execution_count": 23,
     "metadata": {},
     "output_type": "execute_result"
    }
   ],
   "source": []
  },
  {
   "cell_type": "code",
   "execution_count": null,
   "metadata": {},
   "outputs": [],
   "source": [
    "topic6_prediction"
   ]
  },
  {
   "cell_type": "code",
   "execution_count": 3,
   "metadata": {},
   "outputs": [],
   "source": [
    "with open(\"results/filtered_gene1500_topic6.pkl\", 'rb') as f:  # Python 3: open(..., 'wb')\n",
    "    [topic6_tf,topic6_tf_feature_names, topic6_lda, topic6_prediction]=pickle.load(f)\n"
   ]
  },
  {
   "cell_type": "code",
   "execution_count": 6,
   "metadata": {},
   "outputs": [
    {
     "name": "stdout",
     "output_type": "stream",
     "text": [
      "Topic #0 (prior: 0.000): GABARAPL2 GPM6B TMEM59 SERINC1 FEZ1 SOX2-OT TBCB CBR1 ARL6IP5 CD9 TALDO1 PMP22 PLEKHB1 ATP6V0B RNF13 LGALS3BP PRNP RNF130 GSN FIS1\n",
      "Topic #1 (prior: 0.001): CD74 SAT1 HLA-E HLA-B HLA-C NPC2 ARPC3 ZFP36 RPL13A GRN JUNB HERPUD1 ASAH1 RPL21P28 SDCBP COTL1 CLIC1 ATP6V0E1 ID2 PPT1\n",
      "Topic #2 (prior: 0.002): PTPRZ1 GPM6B PTN VIM CNN3 TUBB2B C1orf61 SLC1A3 GPM6A PCDHGC3 NGFRAP1 BCAN PON2 FABP7 GPR56 HEPN1 ATP6AP2 CD9 S100B CD99\n",
      "Topic #3 (prior: 0.002): DNAJB6 LDHA BZW1 VIM SERINC1 RPL13A UBE2D3 CLK1 STRAP ARPC1A RPL21P28 MYL12B ATP6AP2 H2AFZ CCNI RAB1A EIF3F DDOST CAPZA2 ARPC3\n",
      "Topic #4 (prior: 0.002): TUBB2B GPM6A MAP2 STMN1 FXYD6 PTPRZ1 GPR56 RBM4 DNAJB6 GPM6B MLLT11 TSC22D1 CLK1 TUBB3 ILF2 NGFRAP1 MARCKSL1 BZW1 C1orf61 DBN1\n",
      "Topic #5 (prior: 0.003): NME1 TUBB2B NME2 CCT7 H2AFZ NGFRAP1 PSMB6 ILF2 GPM6B CCT3 ATP5C1 STMN1 HSBP1 PTN COX7A2 FXYD6 MDH2 UQCRH UQCRC1 BRK1\n",
      "\n"
     ]
    }
   ],
   "source": [
    "print_top_words(topic6_lda, topic6_tf_feature_names, 20)"
   ]
  },
  {
   "cell_type": "code",
   "execution_count": 13,
   "metadata": {},
   "outputs": [],
   "source": [
    "with open(\"results/topic345678910gene1500.pkl\", 'rb') as f:\n",
    "    predictions = pickle.load(f)"
   ]
  },
  {
   "cell_type": "code",
   "execution_count": 14,
   "metadata": {
    "scrolled": true
   },
   "outputs": [
    {
     "data": {
      "text/plain": [
       "[[TensorLDA(alpha0=0.01, converge_tol=0.0001, inference_converge_tol=1e-06,\n",
       "       inference_step_size=0.001, max_inference_iter=1000, max_iter=1000,\n",
       "       n_components=3, n_restart=10, random_state=None, smooth_param=0.01,\n",
       "       verbose=0),\n",
       "  array([0, 0, 0, ..., 2, 1, 1], dtype=int64)],\n",
       " [TensorLDA(alpha0=0.01, converge_tol=0.0001, inference_converge_tol=1e-06,\n",
       "       inference_step_size=0.001, max_inference_iter=1000, max_iter=1000,\n",
       "       n_components=4, n_restart=10, random_state=None, smooth_param=0.01,\n",
       "       verbose=0),\n",
       "  array([0, 0, 0, ..., 3, 2, 2], dtype=int64)],\n",
       " [TensorLDA(alpha0=0.01, converge_tol=0.0001, inference_converge_tol=1e-06,\n",
       "       inference_step_size=0.001, max_inference_iter=1000, max_iter=1000,\n",
       "       n_components=5, n_restart=10, random_state=None, smooth_param=0.01,\n",
       "       verbose=0),\n",
       "  array([0, 0, 0, ..., 4, 3, 3], dtype=int64)],\n",
       " [TensorLDA(alpha0=0.01, converge_tol=0.0001, inference_converge_tol=1e-06,\n",
       "       inference_step_size=0.001, max_inference_iter=1000, max_iter=1000,\n",
       "       n_components=6, n_restart=10, random_state=None, smooth_param=0.01,\n",
       "       verbose=0),\n",
       "  array([1, 1, 1, ..., 5, 2, 2], dtype=int64)],\n",
       " [TensorLDA(alpha0=0.01, converge_tol=0.0001, inference_converge_tol=1e-06,\n",
       "       inference_step_size=0.001, max_inference_iter=1000, max_iter=1000,\n",
       "       n_components=7, n_restart=10, random_state=None, smooth_param=0.01,\n",
       "       verbose=0),\n",
       "  array([1, 1, 1, ..., 6, 4, 4], dtype=int64)],\n",
       " [TensorLDA(alpha0=0.01, converge_tol=0.0001, inference_converge_tol=1e-06,\n",
       "       inference_step_size=0.001, max_inference_iter=1000, max_iter=1000,\n",
       "       n_components=8, n_restart=10, random_state=None, smooth_param=0.01,\n",
       "       verbose=0),\n",
       "  array([1, 1, 1, ..., 6, 4, 2], dtype=int64)],\n",
       " [TensorLDA(alpha0=0.01, converge_tol=0.0001, inference_converge_tol=1e-06,\n",
       "       inference_step_size=0.001, max_inference_iter=1000, max_iter=1000,\n",
       "       n_components=9, n_restart=10, random_state=None, smooth_param=0.01,\n",
       "       verbose=0),\n",
       "  array([0, 0, 0, ..., 7, 6, 3], dtype=int64)],\n",
       " [TensorLDA(alpha0=0.01, converge_tol=0.0001, inference_converge_tol=1e-06,\n",
       "       inference_step_size=0.001, max_inference_iter=1000, max_iter=1000,\n",
       "       n_components=10, n_restart=10, random_state=None, smooth_param=0.01,\n",
       "       verbose=0),\n",
       "  array([1, 1, 1, ..., 9, 8, 3], dtype=int64)]]"
      ]
     },
     "execution_count": 14,
     "metadata": {},
     "output_type": "execute_result"
    }
   ],
   "source": [
    "predictions"
   ]
  },
  {
   "cell_type": "code",
   "execution_count": 15,
   "metadata": {},
   "outputs": [
    {
     "name": "stdout",
     "output_type": "stream",
     "text": [
      "Topic #0 (prior: 0.001): CD74 SAT1 HLA-B\n",
      "Topic #1 (prior: 0.004): GPM6B VIM PTN\n",
      "Topic #2 (prior: 0.005): TUBB2B STMN1 GPM6A\n",
      "\n",
      "Topic #0 (prior: 0.001): CD74 SAT1 HLA-E\n",
      "Topic #1 (prior: 0.003): TUBB2B STMN1 GPM6A\n",
      "Topic #2 (prior: 0.003): GPM6B VIM PTN\n",
      "Topic #3 (prior: 0.004): NME1 CCT7 TUBB2B\n",
      "\n",
      "Topic #0 (prior: 0.001): CD74 SAT1 HLA-B\n",
      "Topic #1 (prior: 0.001): GPM6B GABARAPL2 S100B\n",
      "Topic #2 (prior: 0.002): TUBB2B GPM6A STMN1\n",
      "Topic #3 (prior: 0.002): VIM GPM6B PTPRZ1\n",
      "Topic #4 (prior: 0.003): NME1 CCT7 H2AFZ\n",
      "\n",
      "Topic #0 (prior: 0.000): GABARAPL2 GPM6B TMEM59\n",
      "Topic #1 (prior: 0.001): CD74 SAT1 HLA-E\n",
      "Topic #2 (prior: 0.002): PTPRZ1 GPM6B PTN\n",
      "Topic #3 (prior: 0.002): DNAJB6 LDHA BZW1\n",
      "Topic #4 (prior: 0.002): TUBB2B GPM6A MAP2\n",
      "Topic #5 (prior: 0.003): NME1 TUBB2B NME2\n",
      "\n",
      "Topic #0 (prior: 0.000): GABARAPL2 GPM6B TMEM59\n",
      "Topic #1 (prior: 0.001): CD74 SAT1 HLA-E\n",
      "Topic #2 (prior: 0.001): VIM RPL13A MYL12B\n",
      "Topic #3 (prior: 0.001): CLK1 DNAJB6 SERINC1\n",
      "Topic #4 (prior: 0.002): PTPRZ1 GPM6B PTN\n",
      "Topic #5 (prior: 0.002): TUBB2B STMN1 FXYD6\n",
      "Topic #6 (prior: 0.003): ILF2 H2AFZ CCT7\n",
      "\n",
      "Topic #0 (prior: 0.000): GPM6B GABARAPL2 SOX2-OT\n",
      "Topic #1 (prior: 0.000): CD74 SAT1 HLA-E\n",
      "Topic #2 (prior: 0.001): MIR4461 VIM HLA-C\n",
      "Topic #3 (prior: 0.001): TUBB2B STMN1 GPM6A\n",
      "Topic #4 (prior: 0.001): PTPRZ1 GPM6B GPR56\n",
      "Topic #5 (prior: 0.002): VIM LDHA HLA-B\n",
      "Topic #6 (prior: 0.002): H2AFZ NME1 ILF2\n",
      "Topic #7 (prior: 0.003): TUBB2B NGFRAP1 C1orf61\n",
      "\n",
      "Topic #0 (prior: 0.000): CD74 SAT1 HLA-E\n",
      "Topic #1 (prior: 0.000): GPM6B GABARAPL2 SOX2-OT\n",
      "Topic #2 (prior: 0.001): VIM JUNB RPL13A\n",
      "Topic #3 (prior: 0.001): MIR4461 NME2 VIM\n",
      "Topic #4 (prior: 0.001): TUBB2B STMN1 TUBB3\n",
      "Topic #5 (prior: 0.001): TUBB2B FXYD6 BCAN\n",
      "Topic #6 (prior: 0.001): PTPRZ1 GPM6B BCAN\n",
      "Topic #7 (prior: 0.002): H2AFZ ILF2 CCT7\n",
      "Topic #8 (prior: 0.003): VIM LDHA CNN3\n",
      "\n",
      "Topic #0 (prior: 0.000): GPM6B GABARAPL2 SOX2-OT\n",
      "Topic #1 (prior: 0.000): CD74 SAT1 HLA-E\n",
      "Topic #2 (prior: 0.000): RPL13A HLA-B HLA-C\n",
      "Topic #3 (prior: 0.001): MIR4461 PTN C1orf61\n",
      "Topic #4 (prior: 0.001): STMN1 TUBB2B TUBB3\n",
      "Topic #5 (prior: 0.001): NME2 RPL21P28 MIR4461\n",
      "Topic #6 (prior: 0.001): VIM LDHA SLC3A2\n",
      "Topic #7 (prior: 0.001): TUBB2B FXYD6 MAP2\n",
      "Topic #8 (prior: 0.002): PTPRZ1 GPR56 GPM6B\n",
      "Topic #9 (prior: 0.002): H2AFZ ILF2 MCM7\n",
      "\n"
     ]
    },
    {
     "ename": "IndexError",
     "evalue": "list index out of range",
     "output_type": "error",
     "traceback": [
      "\u001b[1;31m---------------------------------------------------------------------------\u001b[0m",
      "\u001b[1;31mIndexError\u001b[0m                                Traceback (most recent call last)",
      "\u001b[1;32m<ipython-input-15-e4330383c8ee>\u001b[0m in \u001b[0;36m<module>\u001b[1;34m\u001b[0m\n\u001b[0;32m      1\u001b[0m \u001b[1;32mfor\u001b[0m \u001b[0mi\u001b[0m \u001b[1;32min\u001b[0m \u001b[0mrange\u001b[0m\u001b[1;33m(\u001b[0m\u001b[1;36m0\u001b[0m\u001b[1;33m,\u001b[0m\u001b[1;36m9\u001b[0m\u001b[1;33m)\u001b[0m\u001b[1;33m:\u001b[0m\u001b[1;33m\u001b[0m\u001b[1;33m\u001b[0m\u001b[0m\n\u001b[1;32m----> 2\u001b[1;33m     \u001b[0mprediction\u001b[0m \u001b[1;33m=\u001b[0m \u001b[0mpredictions\u001b[0m\u001b[1;33m[\u001b[0m\u001b[0mi\u001b[0m\u001b[1;33m]\u001b[0m\u001b[1;33m\u001b[0m\u001b[1;33m\u001b[0m\u001b[0m\n\u001b[0m\u001b[0;32m      3\u001b[0m     \u001b[0mprint_top_words\u001b[0m\u001b[1;33m(\u001b[0m\u001b[0mprediction\u001b[0m\u001b[1;33m[\u001b[0m\u001b[1;36m0\u001b[0m\u001b[1;33m]\u001b[0m\u001b[1;33m,\u001b[0m \u001b[0mtopic6_tf_feature_names\u001b[0m\u001b[1;33m,\u001b[0m \u001b[1;36m3\u001b[0m\u001b[1;33m)\u001b[0m\u001b[1;33m\u001b[0m\u001b[1;33m\u001b[0m\u001b[0m\n",
      "\u001b[1;31mIndexError\u001b[0m: list index out of range"
     ]
    }
   ],
   "source": [
    "for i in range(0,9):\n",
    "    prediction = predictions[i]\n",
    "    print_top_words(prediction[0], topic6_tf_feature_names, 3)"
   ]
  }
 ],
 "metadata": {
  "kernelspec": {
   "display_name": "Python 3",
   "language": "python",
   "name": "python3"
  },
  "language_info": {
   "codemirror_mode": {
    "name": "ipython",
    "version": 3
   },
   "file_extension": ".py",
   "mimetype": "text/x-python",
   "name": "python",
   "nbconvert_exporter": "python",
   "pygments_lexer": "ipython3",
   "version": "3.7.9"
  }
 },
 "nbformat": 4,
 "nbformat_minor": 4
}
